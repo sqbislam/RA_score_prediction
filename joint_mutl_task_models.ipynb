{
 "cells": [
  {
   "cell_type": "code",
   "execution_count": 4,
   "metadata": {},
   "outputs": [
    {
     "data": {
      "text/plain": [
       "<matplotlib.pyplot._IonContext at 0x7fc268fbc750>"
      ]
     },
     "execution_count": 4,
     "metadata": {},
     "output_type": "execute_result"
    }
   ],
   "source": [
    "from __future__ import print_function, division\n",
    "\n",
    "import numpy as np\n",
    "import random \n",
    "\n",
    "import torch\n",
    "import torch.nn as nn\n",
    "import torch.optim as optim\n",
    "from torch.optim import lr_scheduler\n",
    "import torch.backends.cudnn as cudnn\n",
    "import torchvision\n",
    "from torch.utils.data import Dataset, DataLoader, WeightedRandomSampler\n",
    "from torchvision.transforms import ToTensor\n",
    "from torchvision import datasets, models, transforms\n",
    "from torchvision.io import read_image\n",
    "from torch.optim.lr_scheduler import StepLR\n",
    "\n",
    "import matplotlib.pyplot as plt\n",
    "import time\n",
    "import os\n",
    "import copy\n",
    "\n",
    "import pandas as pd\n",
    "import numpy as np\n",
    "\n",
    "from PIL import Image\n",
    "from sklearn.model_selection import train_test_split\n",
    "\n",
    "cudnn.benchmark = True\n",
    "plt.ion()   # interactive mode"
   ]
  },
  {
   "cell_type": "code",
   "execution_count": 5,
   "metadata": {},
   "outputs": [
    {
     "data": {
      "text/plain": [
       "True"
      ]
     },
     "execution_count": 5,
     "metadata": {},
     "output_type": "execute_result"
    }
   ],
   "source": [
    "torch.cuda.is_available()"
   ]
  },
  {
   "cell_type": "code",
   "execution_count": 6,
   "metadata": {},
   "outputs": [],
   "source": [
    "seed = 100\n",
    "def seed_everything(seed):\n",
    "    random.seed(seed)\n",
    "    os.environ['PYTHONHASHSEED'] = str(seed)\n",
    "    np.random.seed(seed)\n",
    "    torch.manual_seed(seed)\n",
    "    torch.cuda.manual_seed(seed)\n",
    "    torch.cuda.manual_seed_all(seed)\n",
    "    torch.backends.cudnn.deterministic = True\n",
    "\n",
    "seed_everything(seed)"
   ]
  },
  {
   "cell_type": "code",
   "execution_count": 7,
   "metadata": {},
   "outputs": [],
   "source": [
    "jdf = pd.read_excel(\"./csvs/Joint_images_Feature_extracted_GLCM_AllScores.xlsx\", index_col = 0).replace({\"F\":0,\"C\":0 })"
   ]
  },
  {
   "cell_type": "code",
   "execution_count": 8,
   "metadata": {},
   "outputs": [
    {
     "data": {
      "text/html": [
       "<div>\n",
       "<style scoped>\n",
       "    .dataframe tbody tr th:only-of-type {\n",
       "        vertical-align: middle;\n",
       "    }\n",
       "\n",
       "    .dataframe tbody tr th {\n",
       "        vertical-align: top;\n",
       "    }\n",
       "\n",
       "    .dataframe thead th {\n",
       "        text-align: right;\n",
       "    }\n",
       "</style>\n",
       "<table border=\"1\" class=\"dataframe\">\n",
       "  <thead>\n",
       "    <tr style=\"text-align: right;\">\n",
       "      <th></th>\n",
       "      <th>Patient_ID</th>\n",
       "      <th>Joint_Type</th>\n",
       "      <th>Timepoint</th>\n",
       "      <th>dissimilarity</th>\n",
       "      <th>contrast</th>\n",
       "      <th>homogeneity</th>\n",
       "      <th>ASM</th>\n",
       "      <th>energy</th>\n",
       "      <th>correlation</th>\n",
       "      <th>mean</th>\n",
       "      <th>skewness</th>\n",
       "      <th>kurtosis</th>\n",
       "      <th>variance</th>\n",
       "      <th>Filename</th>\n",
       "      <th>Erosion Score</th>\n",
       "      <th>JSN_Score</th>\n",
       "      <th>Total Score E</th>\n",
       "      <th>Total Score J</th>\n",
       "      <th>Total Score J+E</th>\n",
       "    </tr>\n",
       "  </thead>\n",
       "  <tbody>\n",
       "    <tr>\n",
       "      <th>20784</th>\n",
       "      <td>10-991</td>\n",
       "      <td>Wrist_1</td>\n",
       "      <td>E</td>\n",
       "      <td>9.662078</td>\n",
       "      <td>209.950273</td>\n",
       "      <td>0.129852</td>\n",
       "      <td>0.000461</td>\n",
       "      <td>0.021473</td>\n",
       "      <td>0.959190</td>\n",
       "      <td>185.763306</td>\n",
       "      <td>-1.732832</td>\n",
       "      <td>2.545928</td>\n",
       "      <td>2696.685839</td>\n",
       "      <td>10-991_E_HandLeft_left_Wrist_1.tif</td>\n",
       "      <td>0</td>\n",
       "      <td>0</td>\n",
       "      <td>0.0</td>\n",
       "      <td>0.0</td>\n",
       "      <td>0.0</td>\n",
       "    </tr>\n",
       "    <tr>\n",
       "      <th>14295</th>\n",
       "      <td>10-991</td>\n",
       "      <td>Wrist_1</td>\n",
       "      <td>G</td>\n",
       "      <td>15.261285</td>\n",
       "      <td>512.845858</td>\n",
       "      <td>0.093543</td>\n",
       "      <td>0.000187</td>\n",
       "      <td>0.013678</td>\n",
       "      <td>0.831193</td>\n",
       "      <td>120.273376</td>\n",
       "      <td>-0.001153</td>\n",
       "      <td>-0.521732</td>\n",
       "      <td>1545.048803</td>\n",
       "      <td>10-991_G_Hands_left_Wrist_1.tif</td>\n",
       "      <td>0</td>\n",
       "      <td>0</td>\n",
       "      <td>0.0</td>\n",
       "      <td>0.0</td>\n",
       "      <td>0.0</td>\n",
       "    </tr>\n",
       "    <tr>\n",
       "      <th>42439</th>\n",
       "      <td>10-991</td>\n",
       "      <td>Wrist_1</td>\n",
       "      <td>G</td>\n",
       "      <td>14.920697</td>\n",
       "      <td>481.188430</td>\n",
       "      <td>0.097568</td>\n",
       "      <td>0.000188</td>\n",
       "      <td>0.013704</td>\n",
       "      <td>0.841581</td>\n",
       "      <td>118.306702</td>\n",
       "      <td>-0.222813</td>\n",
       "      <td>-0.246106</td>\n",
       "      <td>1541.802467</td>\n",
       "      <td>10-991_G_Hands_right_Wrist_1.tif</td>\n",
       "      <td>0</td>\n",
       "      <td>0</td>\n",
       "      <td>0.0</td>\n",
       "      <td>0.0</td>\n",
       "      <td>0.0</td>\n",
       "    </tr>\n",
       "    <tr>\n",
       "      <th>2828</th>\n",
       "      <td>10-991</td>\n",
       "      <td>Wrist_1</td>\n",
       "      <td>H</td>\n",
       "      <td>13.858135</td>\n",
       "      <td>427.640253</td>\n",
       "      <td>0.095111</td>\n",
       "      <td>0.000221</td>\n",
       "      <td>0.014875</td>\n",
       "      <td>0.823849</td>\n",
       "      <td>163.512390</td>\n",
       "      <td>-1.178939</td>\n",
       "      <td>2.638571</td>\n",
       "      <td>1281.800982</td>\n",
       "      <td>10-991_H_HandLeft_left_Wrist_1.tif</td>\n",
       "      <td>0</td>\n",
       "      <td>0</td>\n",
       "      <td>0.0</td>\n",
       "      <td>0.0</td>\n",
       "      <td>0.0</td>\n",
       "    </tr>\n",
       "    <tr>\n",
       "      <th>44287</th>\n",
       "      <td>10-991</td>\n",
       "      <td>Wrist_1</td>\n",
       "      <td>H</td>\n",
       "      <td>12.905878</td>\n",
       "      <td>384.210938</td>\n",
       "      <td>0.143963</td>\n",
       "      <td>0.001250</td>\n",
       "      <td>0.035361</td>\n",
       "      <td>0.949524</td>\n",
       "      <td>138.072693</td>\n",
       "      <td>-1.044463</td>\n",
       "      <td>-0.102034</td>\n",
       "      <td>3935.557250</td>\n",
       "      <td>10-991_H_HandRight_right_Wrist_1.tif</td>\n",
       "      <td>0</td>\n",
       "      <td>0</td>\n",
       "      <td>0.0</td>\n",
       "      <td>0.0</td>\n",
       "      <td>0.0</td>\n",
       "    </tr>\n",
       "  </tbody>\n",
       "</table>\n",
       "</div>"
      ],
      "text/plain": [
       "      Patient_ID Joint_Type Timepoint  dissimilarity    contrast  homogeneity  \\\n",
       "20784     10-991    Wrist_1         E       9.662078  209.950273     0.129852   \n",
       "14295     10-991    Wrist_1         G      15.261285  512.845858     0.093543   \n",
       "42439     10-991    Wrist_1         G      14.920697  481.188430     0.097568   \n",
       "2828      10-991    Wrist_1         H      13.858135  427.640253     0.095111   \n",
       "44287     10-991    Wrist_1         H      12.905878  384.210938     0.143963   \n",
       "\n",
       "            ASM    energy  correlation        mean  skewness  kurtosis  \\\n",
       "20784  0.000461  0.021473     0.959190  185.763306 -1.732832  2.545928   \n",
       "14295  0.000187  0.013678     0.831193  120.273376 -0.001153 -0.521732   \n",
       "42439  0.000188  0.013704     0.841581  118.306702 -0.222813 -0.246106   \n",
       "2828   0.000221  0.014875     0.823849  163.512390 -1.178939  2.638571   \n",
       "44287  0.001250  0.035361     0.949524  138.072693 -1.044463 -0.102034   \n",
       "\n",
       "          variance                              Filename  Erosion Score  \\\n",
       "20784  2696.685839    10-991_E_HandLeft_left_Wrist_1.tif              0   \n",
       "14295  1545.048803       10-991_G_Hands_left_Wrist_1.tif              0   \n",
       "42439  1541.802467      10-991_G_Hands_right_Wrist_1.tif              0   \n",
       "2828   1281.800982    10-991_H_HandLeft_left_Wrist_1.tif              0   \n",
       "44287  3935.557250  10-991_H_HandRight_right_Wrist_1.tif              0   \n",
       "\n",
       "       JSN_Score  Total Score E  Total Score J  Total Score J+E  \n",
       "20784          0            0.0            0.0              0.0  \n",
       "14295          0            0.0            0.0              0.0  \n",
       "42439          0            0.0            0.0              0.0  \n",
       "2828           0            0.0            0.0              0.0  \n",
       "44287          0            0.0            0.0              0.0  "
      ]
     },
     "execution_count": 8,
     "metadata": {},
     "output_type": "execute_result"
    }
   ],
   "source": [
    "jdf = pd.read_excel(\"./csvs/Joint_images_Feature_extracted_GLCM_AllScores.xlsx\", index_col = 0).replace({\"F\":0,\"C\":0 }).dropna()\n",
    "jdf[\"Erosion Score\"] = jdf[\"Erosion Score\"].astype(np.int32)\n",
    "jdf[\"JSN_Score\"] = jdf[\"JSN_Score\"].astype(np.int32)\n",
    "jdf.tail()"
   ]
  },
  {
   "cell_type": "code",
   "execution_count": 6,
   "metadata": {},
   "outputs": [],
   "source": [
    "from loaders import ObtainJointImagesData, JointImageDatasetMultiTask\n",
    "data_both = JointImageDatasetMultiTask(ObtainJointImagesData(score_type=\"Both\", filter_joint=\"ulna\", filter_score=4, binarize=False).get_data().values(), data_type='train')\n",
    "# test_data = JointImageDataset(ObtainJointImagesData(score_type=\"E\").get_test_data(), data_type='val')"
   ]
  },
  {
   "cell_type": "code",
   "execution_count": 7,
   "metadata": {},
   "outputs": [
    {
     "name": "stdout",
     "output_type": "stream",
     "text": [
      "Erosion (MCP, PIP)  2770\n"
     ]
    }
   ],
   "source": [
    "print(\"Erosion (MCP, PIP) \", len(data_both))"
   ]
  },
  {
   "cell_type": "code",
   "execution_count": 8,
   "metadata": {},
   "outputs": [
    {
     "name": "stdout",
     "output_type": "stream",
     "text": [
      "Running on  cuda\n",
      "[0 1 2 3 5]\n"
     ]
    }
   ],
   "source": [
    "device = torch.device(\"cuda\" if torch.cuda.is_available() else \"cpu\")\n",
    "print(\"Running on \", device)\n",
    "class_names = data_both.classes\n",
    "print(class_names)"
   ]
  },
  {
   "cell_type": "code",
   "execution_count": 9,
   "metadata": {},
   "outputs": [],
   "source": [
    "IMAGE_SIZE = (224, 224)"
   ]
  },
  {
   "cell_type": "code",
   "execution_count": 10,
   "metadata": {},
   "outputs": [],
   "source": [
    "from collections import Counter\n",
    "def count_score_counts(df):\n",
    "    e = [d[0].item() for d in df]\n",
    "    j = [d[1].item() for d in df]\n",
    "    print(Counter(e), Counter(j))"
   ]
  },
  {
   "cell_type": "code",
   "execution_count": 11,
   "metadata": {},
   "outputs": [
    {
     "name": "stdout",
     "output_type": "stream",
     "text": [
      "Counter({0: 8566, 1: 459, 2: 161, 3: 35, 5: 18, 4: 9}) Counter({0: 8537, 1: 436, 2: 191, 3: 57, 5: 18, 4: 9})\n"
     ]
    }
   ],
   "source": [
    "X, y = ObtainJointImagesData(score_type=\"Both\",filter_joint=\"ulna\", filter_score=4, binarize=False).get_data().values()\n",
    "\n",
    "# Split into train+val and test\n",
    "X_trainval, X_test, y_trainval, y_test = train_test_split(X, y, stratify = y[:,0], test_size=0.3, random_state=69)\n",
    "\n",
    "# Split train into train-val\n",
    "X_train, X_val, y_train, y_val = train_test_split(X_trainval, y_trainval, test_size=0.1, random_state=69)\n",
    "\n",
    "\n",
    "patient_split_data = ObtainJointImagesData(score_type=\"Both\",filter_joint=None, binarize=False).get_patient_split_data()\n",
    "(X_train, y_train), (X_val, y_val), (X_test, y_test) = patient_split_data['train'].values(), patient_split_data['val'].values(), patient_split_data['test'].values()\n",
    "# # Weighted Sampling\n",
    "# class_count = [i for i in Counter(y_train.numpy()).values()]\n",
    "# #class_count.extend([class_count[-1], class_count[-1]])\n",
    "\n",
    "# class_weights = 1./torch.tensor(class_count, dtype=torch.float) \n",
    "# class_weights_all = class_weights[y_train.numpy()]\n",
    "\n",
    "# weighted_sampler = WeightedRandomSampler(\n",
    "#     weights=class_weights_all,\n",
    "#     num_samples=len(class_weights_all),\n",
    "#     replacement=True\n",
    "# )\n",
    "\n",
    "count_score_counts(y_test)\n",
    "\n",
    "train_dl = torch.utils.data.DataLoader(JointImageDatasetMultiTask((X_train, y_train), data_type=\"train\", image_size=IMAGE_SIZE), batch_size=32, num_workers=0)\n",
    "\n",
    "val_dl = torch.utils.data.DataLoader(JointImageDatasetMultiTask((X_val, y_val), data_type=\"val\", image_size=IMAGE_SIZE), batch_size=32,\n",
    "                                             shuffle=True, num_workers=0)\n",
    "\n",
    "test_dl = torch.utils.data.DataLoader(JointImageDatasetMultiTask((X_test, y_test), data_type=\"val\", image_size=IMAGE_SIZE), batch_size=32,\n",
    "                                             shuffle=True, num_workers=0)"
   ]
  },
  {
   "cell_type": "code",
   "execution_count": 12,
   "metadata": {},
   "outputs": [],
   "source": [
    "# Data loaders\n",
    "train_loader = train_dl\n",
    "val_loader = val_dl\n",
    "test_loader = test_dl"
   ]
  },
  {
   "cell_type": "code",
   "execution_count": 13,
   "metadata": {},
   "outputs": [
    {
     "name": "stderr",
     "output_type": "stream",
     "text": [
      "Clipping input data to the valid range for imshow with RGB data ([0..1] for floats or [0..255] for integers).\n",
      "Clipping input data to the valid range for imshow with RGB data ([0..1] for floats or [0..255] for integers).\n"
     ]
    },
    {
     "data": {
      "image/png": "[encoded data removed]",
      "text/plain": [
       "<Figure size 432x288 with 1 Axes>"
      ]
     },
     "metadata": {
      "needs_background": "light"
     },
     "output_type": "display_data"
    }
   ],
   "source": [
    "inputs, e, j = next(iter(train_loader))\n",
    "for i in range(2):\n",
    "    # Get a batch of training data\n",
    "    inputs, e, j = next(iter(train_loader))\n",
    "\n",
    "    # Make a grid from batch\n",
    "    out = torchvision.utils.make_grid(inputs)\n",
    "    plt.imshow(out.permute(1, 2, 0))"
   ]
  },
  {
   "cell_type": "code",
   "execution_count": 63,
   "metadata": {},
   "outputs": [
    {
     "name": "stdout",
     "output_type": "stream",
     "text": [
      "cuda:2\n"
     ]
    }
   ],
   "source": [
    "from sklearn.metrics import matthews_corrcoef, r2_score, accuracy_score, balanced_accuracy_score, f1_score, roc_auc_score, confusion_matrix, classification_report, mean_squared_error\n",
    "import seaborn as sns\n",
    "import math\n",
    "from performance_metrics import evaluate_test_set_multi_task, roc_auc_score_multiclass, multi_acc, accuracy, multi_mcc, root_mean_squared_error, save_confusion_matrix, draw_roc_curve, evaluate_test_set, calculate_roc_plot\n",
    "from sklearn.metrics import roc_curve, auc\n",
    "\n",
    "def calculate_roc_plot_test(y_score, y_test, n_classes):\n",
    "    # Compute ROC curve and ROC area for each class\n",
    "    fpr = dict()\n",
    "    tpr = dict()\n",
    "    roc_auc = dict()\n",
    "    y_test_pred = [[]] * len(y_test)\n",
    "    for i, t in enumerate(y_test):\n",
    "        arr = [0] * (n_classes+1)\n",
    "        arr[t] = 1\n",
    "        y_test_pred[i] = arr\n",
    "    y_test_pred = np.array(y_test_pred)\n",
    "        \n",
    "    for i in range(n_classes):\n",
    "        print(y_test_pred, y_score)\n",
    "        fpr[i], tpr[i], _ = roc_curve(y_test_pred[i, :], y_score[i, :])\n",
    "        roc_auc[i] = auc(fpr[i], tpr[i])\n",
    "    \n",
    "    # Plot of a ROC curve for a specific class\n",
    "    for i in range(n_classes):\n",
    "        plt.figure()\n",
    "        plt.plot(fpr[i], tpr[i], label='ROC curve (area = %0.2f)' % roc_auc[i])\n",
    "        plt.plot([0, 1], [0, 1], 'k--')\n",
    "        plt.xlim([0.0, 1.0])\n",
    "        plt.ylim([0.0, 1.05])\n",
    "        plt.xlabel('False Positive Rate')\n",
    "        plt.ylabel('True Positive Rate')\n",
    "        plt.title('Receiver operating characteristic example')\n",
    "        plt.legend(loc=\"lower right\")\n",
    "        plt.show()\n",
    "\n",
    "def save_best_dict(test_metrics, best_dict):\n",
    "    acc, f1, roc, e = test_metrics\n",
    "\n",
    "    if(best_dict[\"accuracy\"] > acc):\n",
    "        best_dict[\"accuracy\"] = acc\n",
    "    elif(best_dict[\"f1_score\"] > f1):\n",
    "        best_dict[\"f1_score\"] = f1\n",
    "        best_dict[\"roc_auc\"] = roc\n",
    "    \n",
    "    return best_dict\n",
    "\n",
    "def draw_roc_multiclass(X,y,model, classes=class_names):\n",
    "    visualizer = ROCAUC(model, classes=classes)\n",
    "\n",
    "    visualizer.fit(X, y)        # Fit the training data to the visualizer\n",
    "    visualizer.score(X, X)        # Evaluate the model on the test data\n",
    "    visualizer.show()                       # Finalize and render the figure\n",
    "    plt.savefig()\n",
    "\n",
    "device = torch.device(\"cuda:2\" if torch.cuda.is_available() else \"cpu\")\n",
    "print(device)"
   ]
  },
  {
   "cell_type": "code",
   "execution_count": 64,
   "metadata": {},
   "outputs": [],
   "source": [
    "from models import CNN_MC, MTL_ViTModule\n",
    "## Is it Regression analysis or multi-class classification?\n",
    "IsRegression = False\n",
    "# Epochs and LR Scheduler gamma\n",
    "EPOCHS = 200\n",
    "gamma = 0.6\n",
    "\n",
    "# Learning rate to begin with. Num of classes for multi-class classification\n",
    "LEARNING_RATE = 0.00001\n",
    "NUM_CLASSES = 1\n",
    "\n",
    "model = MTL_ViTModule(input_size = IMAGE_SIZE, output_size = NUM_CLASSES)\n",
    "model.to(device)\n",
    "\n",
    "## Freeze all layers\n",
    "for param in model.parameters():\n",
    "    param.requires_grad = False\n",
    "\n",
    "# Fine-tune first four params\n",
    "for param in reversed(list(model.parameters())[-10:]):\n",
    "    param.requires_grad = True\n",
    "\n",
    "# for param in reversed(list(model.parameters())):\n",
    "#     if(param.requires_grad == True):\n",
    "#         print(param)\n",
    "# weight=class_weights.to(device)\n",
    "# criterion = nn.CrossEntropyLoss(weight=class_weights.to(device))\n",
    "criterion = nn.MSELoss()\n",
    "if(IsRegression == True):\n",
    "    criterion = nn.MSELoss()\n",
    "\n",
    "# model = Ditill_ViT(input_size=(224, 224), output_size = NUM_CLASSES)\n",
    "# distill_criterion = model.get_distiller\n",
    "\n",
    "optimizer = optim.Adam(model.parameters(), lr=LEARNING_RATE)\n",
    "scheduler = StepLR(optimizer, step_size=1, gamma=gamma)"
   ]
  },
  {
   "cell_type": "code",
   "execution_count": 65,
   "metadata": {},
   "outputs": [],
   "source": [
    "import torch\n",
    "foo = torch.tensor([1,2,3])\n",
    "foo = foo.to('cuda:2')"
   ]
  },
  {
   "cell_type": "code",
   "execution_count": 71,
   "metadata": {},
   "outputs": [],
   "source": [
    "import gc\n",
    "gc.collect()\n",
    "torch.cuda.set_device(2)\n",
    "torch.cuda.empty_cache() # Clear CUDA memory"
   ]
  },
  {
   "cell_type": "code",
   "execution_count": 72,
   "metadata": {},
   "outputs": [],
   "source": [
    "import json \n",
    "\n",
    "# Define model name for filenames\n",
    "MODEL_NAME_BASE = \"ViT_MultiTask_Patient_Split\"\n",
    "if(IsRegression == True):\n",
    "    MODEL_NAME_BASE = \"ViT_MSE_\"\n",
    "\n",
    "MODEL_NAME = MODEL_NAME_BASE + \"_EJ\"\n",
    "\n",
    "train_metrics = []\n",
    "val_metrics = []\n",
    "test_metrics = []\n",
    "\n",
    "def save_metrics(acc_stats, f1_stats, rmse_stats, roc_stats, prefix=\"final\"):\n",
    "    cols = []\n",
    "    stat_dict = {}\n",
    "    for t in [\"train\", \"val\", \"test\"]:\n",
    "        for m in [\"accuracy\", \"f1\", \"rmse\", \"auc_roc\"]:\n",
    "            stats = None\n",
    "            if(m == \"accuracy\"):\n",
    "                stats = acc_stats\n",
    "            elif(m == \"f1\"):\n",
    "                stats = f1_stats\n",
    "            elif(m == \"rmse\"):\n",
    "                stats = rmse_stats\n",
    "            elif(m == \"auc_roc\"):\n",
    "                stats = roc_stats\n",
    "\n",
    "            key = f\"{t}_{m}\"\n",
    "            stat_dict[key] = stats[t]\n",
    "            \n",
    "\n",
    "    accuracy = [acc_stats[\"train\"], acc_stats[\"val\"], acc_stats[\"test\"]]\n",
    "    f1 = [f1_stats[\"train\"], f1_stats[\"val\"], f1_stats[\"test\"]]\n",
    "    rmse = [rmse_stats[\"train\"], rmse_stats[\"val\"], rmse_stats[\"test\"]]\n",
    "    auc_roc = [roc_stats[\"train\"], roc_stats[\"val\"], roc_stats[\"test\"]]\n",
    "    data = [*accuracy, *f1, *rmse, *auc_roc]\n",
    "    df = pd.DataFrame(stat_dict)\n",
    "    df.to_csv(f\"./logs/{MODEL_NAME}_{prefix}_results.csv\")\n",
    "\n",
    "\n",
    "def save_metrics_multi_score(acc_stats, f1_stats, rmse_stats, roc_stats, prefix=\"final\"):\n",
    "    cols = []\n",
    "    stat_dict = {}\n",
    "    for s in [\"E\", \"J\"]:\n",
    "        for t in [\"train\", \"val\", \"test\"]:\n",
    "            for m in [\"accuracy\", \"f1\", \"rmse\", \"auc_roc\"]:\n",
    "                stats = None\n",
    "                if(m == \"accuracy\"):\n",
    "                    stats = acc_stats\n",
    "                elif(m == \"f1\"):\n",
    "                    stats = f1_stats\n",
    "                elif(m == \"rmse\"):\n",
    "                    stats = rmse_stats\n",
    "                elif(m == \"auc_roc\"):\n",
    "                    stats = roc_stats\n",
    "\n",
    "                key = f\"{t}_{m}_{s}\"\n",
    "                stat_dict[key] = stats[s][t]\n",
    "            \n",
    "\n",
    "    df = pd.DataFrame(stat_dict)\n",
    "    df.to_csv(f\"./logs/{MODEL_NAME}_{prefix}_results.csv\")"
   ]
  },
  {
   "cell_type": "code",
   "execution_count": 73,
   "metadata": {},
   "outputs": [],
   "source": [
    "def get_performance_metrics(y_batch, y_hat, weights=None, isRegression=True):\n",
    "    '''\n",
    "    Calculate Performance Metrics\n",
    "        y_batch = The truth values\n",
    "        y_hat = The predicitons from the model\n",
    "    '''\n",
    "    y_batch = y_batch.cpu().numpy()\n",
    "    y_hat = y_hat.cpu().numpy()\n",
    "    \n",
    "\n",
    "    # Weights of samples\n",
    "    # class_keys = [i for i in Counter(np.squeeze(y_batch)).keys()]\n",
    "    # class_count = [i for i in Counter(np.squeeze(y_batch)).values()]\n",
    "    # class_weights = 1./torch.tensor(class_count, dtype=torch.float) \n",
    "    # print(class_keys, class_weights, np.squeeze(y_batch))\n",
    "    \n",
    "    # Define class weights for samples\n",
    "    acc = accuracy_score(y_batch, y_hat)\n",
    "    \n",
    "    # Sample weights for balanced accuracy\n",
    "    if(weights != None):\n",
    "        class_weights_all = weights[np.squeeze(y_batch)]\n",
    "        acc = balanced_accuracy_score(y_batch, y_hat, sample_weight=class_weights_all)\n",
    "\n",
    "    r2 = r2_score(y_batch, y_hat)\n",
    "    f1 = f1_score(y_batch, y_hat, average=\"macro\", labels=np.unique(y_hat))\n",
    "    rmse = root_mean_squared_error(y_batch, y_hat)\n",
    "    roc_auc = 0\n",
    "    try:\n",
    "        roc_auc = roc_auc_score(y_batch, y_hat,average='weighted')\n",
    "    except:\n",
    "        roc_auc = 0\n",
    "        \n",
    "\n",
    "    return {'accuracy':acc, 'r2':r2, 'f1':f1, 'rmse':rmse, 'roc_auc':roc_auc}\n",
    "\n"
   ]
  },
  {
   "cell_type": "code",
   "execution_count": 74,
   "metadata": {},
   "outputs": [],
   "source": [
    "import warnings\n",
    "warnings.filterwarnings('ignore')"
   ]
  },
  {
   "cell_type": "code",
   "execution_count": 75,
   "metadata": {},
   "outputs": [
    {
     "name": "stdout",
     "output_type": "stream",
     "text": [
      "Begin training.\n"
     ]
    },
    {
     "name": "stderr",
     "output_type": "stream",
     "text": [
      "  0%|          | 1/200 [04:04<13:31:26, 244.65s/it]"
     ]
    },
    {
     "name": "stdout",
     "output_type": "stream",
     "text": [
      "Epoch 001: | Train Loss: 2.47197 | Val Loss: 3.30962 | Train Acc: 0.367 | Val Acc: 0.634 | Val F1: 0.180 | Val RMSE: 0.9646226005103247\n",
      "Train AUC: 0.11220 | Val AUC E: 0.24705 | Val AUC J: 0.21118\n"
     ]
    },
    {
     "name": "stderr",
     "output_type": "stream",
     "text": [
      "  1%|          | 2/200 [08:11<13:30:59, 245.75s/it]"
     ]
    },
    {
     "name": "stdout",
     "output_type": "stream",
     "text": [
      "Epoch 002: | Train Loss: 2.08948 | Val Loss: 3.80205 | Train Acc: 0.397 | Val Acc: 0.536 | Val F1: 0.173 | Val RMSE: 1.101561528376127\n",
      "Train AUC: 0.10518 | Val AUC E: 0.27747 | Val AUC J: 0.22934\n"
     ]
    },
    {
     "name": "stderr",
     "output_type": "stream",
     "text": [
      "  2%|▏         | 3/200 [12:19<13:30:13, 246.77s/it]"
     ]
    },
    {
     "name": "stdout",
     "output_type": "stream",
     "text": [
      "Epoch 003: | Train Loss: 1.78149 | Val Loss: 2.54261 | Train Acc: 0.439 | Val Acc: 0.611 | Val F1: 0.179 | Val RMSE: 1.0292484802118518\n",
      "Train AUC: 0.11924 | Val AUC E: 0.27732 | Val AUC J: 0.23934\n"
     ]
    },
    {
     "name": "stderr",
     "output_type": "stream",
     "text": [
      "  2%|▏         | 4/200 [16:26<13:27:08, 247.08s/it]"
     ]
    },
    {
     "name": "stdout",
     "output_type": "stream",
     "text": [
      "Epoch 004: | Train Loss: 1.58677 | Val Loss: 3.56817 | Train Acc: 0.464 | Val Acc: 0.558 | Val F1: 0.186 | Val RMSE: 1.0722959614687324\n",
      "Train AUC: 0.11017 | Val AUC E: 0.30783 | Val AUC J: 0.25926\n"
     ]
    },
    {
     "name": "stderr",
     "output_type": "stream",
     "text": [
      "  2%|▎         | 5/200 [21:24<14:22:20, 265.34s/it]"
     ]
    },
    {
     "name": "stdout",
     "output_type": "stream",
     "text": [
      "Test Metrics | \n",
      "Accuracy (E|J):0.27865484429065746 | 0.4023572664359862 \n",
      "RMSE: 2.2973440301232464 | 1.4327107134391508 \n",
      "F1: 0.40530658551183246 | 0.5373025824058242  \n",
      "AUC: 0 | 0\n",
      "Best Test metrics till now: \n",
      "{'accuracy': (0.46875, 0.297469723183391),\n",
      " 'f1': (0.5996254322163497, 0.43989681587286683),\n",
      " 'r2': (-6.140536161737293, -17.225434052924093),\n",
      " 'rmse': (1.2116076184191615, 2.069196522630844),\n",
      " 'roc_auc': (0, 0)}\n",
      "Epoch 005: | Train Loss: 1.34355 | Val Loss: 4.35981 | Train Acc: 0.514 | Val Acc: 0.550 | Val F1: 0.125 | Val RMSE: 1.7225175724081034\n",
      "Train AUC: 0.11080 | Val AUC E: 0.30603 | Val AUC J: 0.27609\n"
     ]
    },
    {
     "name": "stderr",
     "output_type": "stream",
     "text": [
      "  3%|▎         | 6/200 [25:33<14:00:21, 259.91s/it]"
     ]
    },
    {
     "name": "stdout",
     "output_type": "stream",
     "text": [
      "Epoch 006: | Train Loss: 1.18095 | Val Loss: 2.97628 | Train Acc: 0.555 | Val Acc: 0.575 | Val F1: 0.230 | Val RMSE: 1.216199555601619\n",
      "Train AUC: 0.11433 | Val AUC E: 0.27526 | Val AUC J: 0.21345\n"
     ]
    },
    {
     "name": "stderr",
     "output_type": "stream",
     "text": [
      "  4%|▎         | 7/200 [29:43<13:45:15, 256.56s/it]"
     ]
    },
    {
     "name": "stdout",
     "output_type": "stream",
     "text": [
      "Epoch 007: | Train Loss: 1.00214 | Val Loss: 2.83437 | Train Acc: 0.607 | Val Acc: 0.466 | Val F1: 0.178 | Val RMSE: 1.3290875805763622\n",
      "Train AUC: 0.11395 | Val AUC E: 0.27668 | Val AUC J: 0.25607\n"
     ]
    },
    {
     "name": "stderr",
     "output_type": "stream",
     "text": [
      "  4%|▍         | 8/200 [33:45<13:25:55, 251.85s/it]"
     ]
    },
    {
     "name": "stdout",
     "output_type": "stream",
     "text": [
      "Epoch 008: | Train Loss: 0.85830 | Val Loss: 2.37482 | Train Acc: 0.650 | Val Acc: 0.498 | Val F1: 0.181 | Val RMSE: 1.1788296891531214\n",
      "Train AUC: 0.10753 | Val AUC E: 0.29977 | Val AUC J: 0.23761\n"
     ]
    },
    {
     "name": "stderr",
     "output_type": "stream",
     "text": [
      "  4%|▍         | 9/200 [37:44<13:09:23, 247.98s/it]"
     ]
    },
    {
     "name": "stdout",
     "output_type": "stream",
     "text": [
      "Epoch 009: | Train Loss: 0.71644 | Val Loss: 5.24755 | Train Acc: 0.706 | Val Acc: 0.551 | Val F1: 0.168 | Val RMSE: 1.3556064945229722\n",
      "Train AUC: 0.11381 | Val AUC E: 0.27994 | Val AUC J: 0.22303\n"
     ]
    },
    {
     "name": "stderr",
     "output_type": "stream",
     "text": [
      "  5%|▌         | 10/200 [42:36<13:47:54, 261.44s/it]"
     ]
    },
    {
     "name": "stdout",
     "output_type": "stream",
     "text": [
      "Test Metrics | \n",
      "Accuracy (E|J):0.48486159169550175 | 0.5772058823529411 \n",
      "RMSE: 1.3939594196997025 | 1.2187264268991775 \n",
      "F1: 0.6121932606156465 | 0.687416215843398  \n",
      "AUC: 0 | 0\n",
      "Best Test metrics till now: \n",
      "{'accuracy': (0.48486159169550175, 0.5772058823529411),\n",
      " 'f1': (0.6121932606156465, 0.687416215843398),\n",
      " 'r2': (-8.451637803949556, -5.322471010985083),\n",
      " 'rmse': (1.3939594196997025, 1.2187264268991775),\n",
      " 'roc_auc': (0, 0)}\n",
      "Epoch 010: | Train Loss: 0.65164 | Val Loss: 2.10562 | Train Acc: 0.743 | Val Acc: 0.672 | Val F1: 0.222 | Val RMSE: 0.952780086747478\n",
      "Train AUC: 0.10784 | Val AUC E: 0.29224 | Val AUC J: 0.26869\n"
     ]
    },
    {
     "name": "stderr",
     "output_type": "stream",
     "text": [
      "  6%|▌         | 11/200 [46:34<13:20:53, 254.25s/it]"
     ]
    },
    {
     "name": "stdout",
     "output_type": "stream",
     "text": [
      "Epoch 011: | Train Loss: 0.57214 | Val Loss: 2.26538 | Train Acc: 0.791 | Val Acc: 0.791 | Val F1: 0.346 | Val RMSE: 0.6510838732854908\n",
      "Train AUC: 0.10999 | Val AUC E: 0.28107 | Val AUC J: 0.23455\n"
     ]
    },
    {
     "name": "stderr",
     "output_type": "stream",
     "text": [
      "  6%|▌         | 12/200 [50:33<13:02:17, 249.67s/it]"
     ]
    },
    {
     "name": "stdout",
     "output_type": "stream",
     "text": [
      "Epoch 012: | Train Loss: 0.50384 | Val Loss: 1.73262 | Train Acc: 0.832 | Val Acc: 0.864 | Val F1: 0.398 | Val RMSE: 0.7821864817954535\n",
      "Train AUC: 0.11347 | Val AUC E: 0.27731 | Val AUC J: 0.26341\n"
     ]
    },
    {
     "name": "stderr",
     "output_type": "stream",
     "text": [
      "  6%|▋         | 13/200 [54:31<12:46:47, 246.03s/it]"
     ]
    },
    {
     "name": "stdout",
     "output_type": "stream",
     "text": [
      "Epoch 013: | Train Loss: 0.44519 | Val Loss: 1.50780 | Train Acc: 0.862 | Val Acc: 0.816 | Val F1: 0.305 | Val RMSE: 0.8643643710128646\n",
      "Train AUC: 0.11228 | Val AUC E: 0.23066 | Val AUC J: 0.24064\n"
     ]
    },
    {
     "name": "stderr",
     "output_type": "stream",
     "text": [
      "  7%|▋         | 14/200 [58:28<12:35:05, 243.58s/it]"
     ]
    },
    {
     "name": "stdout",
     "output_type": "stream",
     "text": [
      "Epoch 014: | Train Loss: 0.38983 | Val Loss: 2.40490 | Train Acc: 0.892 | Val Acc: 0.860 | Val F1: 0.374 | Val RMSE: 0.782366939831115\n",
      "Train AUC: 0.11051 | Val AUC E: 0.27591 | Val AUC J: 0.27137\n"
     ]
    },
    {
     "name": "stderr",
     "output_type": "stream",
     "text": [
      "  8%|▊         | 15/200 [1:03:20<13:15:35, 258.03s/it]"
     ]
    },
    {
     "name": "stdout",
     "output_type": "stream",
     "text": [
      "Test Metrics | \n",
      "Accuracy (E|J):0.8595371972318339 | 0.8694852941176471 \n",
      "RMSE: 0.6473094365930587 | 0.6810109856611501 \n",
      "F1: 0.8612870038439273 | 0.8619999550717037  \n",
      "AUC: 0 | 0\n",
      "Best Test metrics till now: \n",
      "{'accuracy': (0.8595371972318339, 0.8694852941176471),\n",
      " 'f1': (0.8612870038439273, 0.8619999550717037),\n",
      " 'r2': (-1.0381244568895118, -0.9741611943881057),\n",
      " 'rmse': (0.6473094365930587, 0.6810109856611501),\n",
      " 'roc_auc': (0, 0)}\n",
      "Epoch 015: | Train Loss: 0.34624 | Val Loss: 0.76777 | Train Acc: 0.910 | Val Acc: 0.890 | Val F1: 0.491 | Val RMSE: 0.5414736545304556\n",
      "Train AUC: 0.11094 | Val AUC E: 0.25329 | Val AUC J: 0.23726\n"
     ]
    },
    {
     "name": "stderr",
     "output_type": "stream",
     "text": [
      "  8%|▊         | 16/200 [1:07:18<12:52:41, 251.96s/it]"
     ]
    },
    {
     "name": "stdout",
     "output_type": "stream",
     "text": [
      "Epoch 016: | Train Loss: 0.31966 | Val Loss: 0.71683 | Train Acc: 0.923 | Val Acc: 0.871 | Val F1: 0.415 | Val RMSE: 0.550062941876353\n",
      "Train AUC: 0.11195 | Val AUC E: 0.27052 | Val AUC J: 0.25931\n"
     ]
    },
    {
     "name": "stderr",
     "output_type": "stream",
     "text": [
      "  8%|▊         | 17/200 [1:11:16<12:35:29, 247.70s/it]"
     ]
    },
    {
     "name": "stdout",
     "output_type": "stream",
     "text": [
      "Epoch 017: | Train Loss: 0.29324 | Val Loss: 1.50526 | Train Acc: 0.934 | Val Acc: 0.860 | Val F1: 0.364 | Val RMSE: 0.9204505891129187\n",
      "Train AUC: 0.11328 | Val AUC E: 0.23323 | Val AUC J: 0.21863\n"
     ]
    },
    {
     "name": "stderr",
     "output_type": "stream",
     "text": [
      "  9%|▉         | 18/200 [1:15:15<12:23:22, 245.07s/it]"
     ]
    },
    {
     "name": "stdout",
     "output_type": "stream",
     "text": [
      "Epoch 018: | Train Loss: 0.26283 | Val Loss: 0.91343 | Train Acc: 0.948 | Val Acc: 0.896 | Val F1: 0.509 | Val RMSE: 0.5241501912891909\n",
      "Train AUC: 0.11324 | Val AUC E: 0.27760 | Val AUC J: 0.25734\n"
     ]
    },
    {
     "name": "stderr",
     "output_type": "stream",
     "text": [
      " 10%|▉         | 19/200 [1:19:12<12:12:43, 242.89s/it]"
     ]
    },
    {
     "name": "stdout",
     "output_type": "stream",
     "text": [
      "Epoch 019: | Train Loss: 0.24502 | Val Loss: 0.62099 | Train Acc: 0.956 | Val Acc: 0.901 | Val F1: 0.552 | Val RMSE: 0.45860723601242365\n",
      "Train AUC: 0.11102 | Val AUC E: 0.24825 | Val AUC J: 0.26039\n"
     ]
    },
    {
     "name": "stderr",
     "output_type": "stream",
     "text": [
      " 10%|█         | 20/200 [1:24:03<12:51:50, 257.28s/it]"
     ]
    },
    {
     "name": "stdout",
     "output_type": "stream",
     "text": [
      "Test Metrics | \n",
      "Accuracy (E|J):0.8884083044982699 | 0.8632136678200693 \n",
      "RMSE: 0.6215736646306395 | 0.6473094365930587 \n",
      "F1: 0.8732555984740236 | 0.8598486988207766  \n",
      "AUC: 0 | 0\n",
      "Best Test metrics till now: \n",
      "{'accuracy': (0.8884083044982699, 0.8632136678200693),\n",
      " 'f1': (0.8732555984740236, 0.8598486988207766),\n",
      " 'r2': (-0.8792822411525743, -0.7836033173825856),\n",
      " 'rmse': (0.6215736646306395, 0.6473094365930587),\n",
      " 'roc_auc': (0, 0)}\n",
      "Epoch 020: | Train Loss: 0.22885 | Val Loss: 0.65708 | Train Acc: 0.960 | Val Acc: 0.903 | Val F1: 0.572 | Val RMSE: 0.5165457847847422\n",
      "Train AUC: 0.11221 | Val AUC E: 0.26165 | Val AUC J: 0.26314\n"
     ]
    },
    {
     "name": "stderr",
     "output_type": "stream",
     "text": [
      " 10%|█         | 21/200 [1:28:01<12:30:12, 251.47s/it]"
     ]
    },
    {
     "name": "stdout",
     "output_type": "stream",
     "text": [
      "Epoch 021: | Train Loss: 0.21741 | Val Loss: 0.80461 | Train Acc: 0.963 | Val Acc: 0.893 | Val F1: 0.497 | Val RMSE: 0.5227013359444778\n",
      "Train AUC: 0.11226 | Val AUC E: 0.25898 | Val AUC J: 0.27205\n"
     ]
    },
    {
     "name": "stderr",
     "output_type": "stream",
     "text": [
      " 11%|█         | 22/200 [1:32:00<12:14:47, 247.68s/it]"
     ]
    },
    {
     "name": "stdout",
     "output_type": "stream",
     "text": [
      "Epoch 022: | Train Loss: 0.20739 | Val Loss: 1.26474 | Train Acc: 0.965 | Val Acc: 0.906 | Val F1: 0.588 | Val RMSE: 0.4637808358864524\n",
      "Train AUC: 0.11150 | Val AUC E: 0.25623 | Val AUC J: 0.24768\n"
     ]
    },
    {
     "name": "stderr",
     "output_type": "stream",
     "text": [
      " 12%|█▏        | 23/200 [1:35:59<12:02:55, 245.06s/it]"
     ]
    },
    {
     "name": "stdout",
     "output_type": "stream",
     "text": [
      "Epoch 023: | Train Loss: 0.20066 | Val Loss: 0.68736 | Train Acc: 0.967 | Val Acc: 0.913 | Val F1: 0.651 | Val RMSE: 0.4238812907433577\n",
      "Train AUC: 0.11108 | Val AUC E: 0.24680 | Val AUC J: 0.23907\n"
     ]
    },
    {
     "name": "stderr",
     "output_type": "stream",
     "text": [
      " 12%|█▏        | 24/200 [1:39:58<11:53:23, 243.20s/it]"
     ]
    },
    {
     "name": "stdout",
     "output_type": "stream",
     "text": [
      "Epoch 024: | Train Loss: 0.19633 | Val Loss: 2.04992 | Train Acc: 0.968 | Val Acc: 0.909 | Val F1: 0.608 | Val RMSE: 0.6735500611135437\n",
      "Train AUC: 0.11173 | Val AUC E: 0.23706 | Val AUC J: 0.23099\n"
     ]
    },
    {
     "name": "stderr",
     "output_type": "stream",
     "text": [
      " 12%|█▎        | 25/200 [1:44:49<12:30:55, 257.46s/it]"
     ]
    },
    {
     "name": "stdout",
     "output_type": "stream",
     "text": [
      "Test Metrics | \n",
      "Accuracy (E|J):0.8931660899653979 | 0.8960856401384083 \n",
      "RMSE: 0.5746595286894443 | 0.711147654566303 \n",
      "F1: 0.8757899267713537 | 0.8739593461082512  \n",
      "AUC: 0 | 0\n",
      "Best Test metrics till now: \n",
      "{'accuracy': (0.891219723183391, 0.8961937716262975),\n",
      " 'f1': (0.8804661313871353, 0.874845803981918),\n",
      " 'r2': (-2.5865730765237624, -3.4044645532990874),\n",
      " 'rmse': (0.858690058241738, 1.0172070432505376),\n",
      " 'roc_auc': (0, 0)}\n",
      "Epoch 025: | Train Loss: 0.19227 | Val Loss: 0.76201 | Train Acc: 0.969 | Val Acc: 0.911 | Val F1: 0.624 | Val RMSE: 0.4525755305999361\n",
      "Train AUC: 0.11142 | Val AUC E: 0.23962 | Val AUC J: 0.24333\n"
     ]
    },
    {
     "name": "stderr",
     "output_type": "stream",
     "text": [
      " 13%|█▎        | 26/200 [1:48:45<12:08:08, 251.09s/it]"
     ]
    },
    {
     "name": "stdout",
     "output_type": "stream",
     "text": [
      "Epoch 026: | Train Loss: 0.18988 | Val Loss: 0.99206 | Train Acc: 0.970 | Val Acc: 0.912 | Val F1: 0.615 | Val RMSE: 0.45953340153765077\n",
      "Train AUC: 0.11179 | Val AUC E: 0.24382 | Val AUC J: 0.23957\n"
     ]
    },
    {
     "name": "stderr",
     "output_type": "stream",
     "text": [
      " 14%|█▎        | 27/200 [1:52:43<11:52:52, 247.24s/it]"
     ]
    },
    {
     "name": "stdout",
     "output_type": "stream",
     "text": [
      "Epoch 027: | Train Loss: 0.18869 | Val Loss: 0.69537 | Train Acc: 0.970 | Val Acc: 0.909 | Val F1: 0.600 | Val RMSE: 0.4784370317183819\n",
      "Train AUC: 0.11175 | Val AUC E: 0.25300 | Val AUC J: 0.24287\n"
     ]
    },
    {
     "name": "stderr",
     "output_type": "stream",
     "text": [
      " 14%|█▍        | 28/200 [1:56:41<11:40:47, 244.46s/it]"
     ]
    },
    {
     "name": "stdout",
     "output_type": "stream",
     "text": [
      "Epoch 028: | Train Loss: 0.18721 | Val Loss: 0.73358 | Train Acc: 0.970 | Val Acc: 0.910 | Val F1: 0.625 | Val RMSE: 0.46230593246998136\n",
      "Train AUC: 0.11157 | Val AUC E: 0.25957 | Val AUC J: 0.24888\n"
     ]
    },
    {
     "name": "stderr",
     "output_type": "stream",
     "text": [
      " 14%|█▍        | 29/200 [2:00:40<11:31:52, 242.76s/it]"
     ]
    },
    {
     "name": "stdout",
     "output_type": "stream",
     "text": [
      "Epoch 029: | Train Loss: 0.18603 | Val Loss: 0.53603 | Train Acc: 0.971 | Val Acc: 0.912 | Val F1: 0.635 | Val RMSE: 0.43366211001898\n",
      "Train AUC: 0.11164 | Val AUC E: 0.23930 | Val AUC J: 0.21855\n"
     ]
    },
    {
     "name": "stderr",
     "output_type": "stream",
     "text": [
      " 15%|█▌        | 30/200 [2:05:30<12:08:16, 257.04s/it]"
     ]
    },
    {
     "name": "stdout",
     "output_type": "stream",
     "text": [
      "Test Metrics | \n",
      "Accuracy (E|J):0.8987889273356401 | 0.9043036332179931 \n",
      "RMSE: 0.6687539376829211 | 0.5763505303080688 \n",
      "F1: 0.8998303132555625 | 0.8830691339531207  \n",
      "AUC: 0 | 0\n",
      "Best Test metrics till now: \n",
      "{'accuracy': (0.8987889273356401, 0.9043036332179931),\n",
      " 'f1': (0.8998303132555625, 0.8830691339531207),\n",
      " 'r2': (-1.1754020009535537, -0.4139946815482072),\n",
      " 'rmse': (0.6687539376829211, 0.5763505303080688),\n",
      " 'roc_auc': (0, 0)}\n",
      "Epoch 030: | Train Loss: 0.18485 | Val Loss: 0.65019 | Train Acc: 0.971 | Val Acc: 0.912 | Val F1: 0.629 | Val RMSE: 0.5649449662149595\n",
      "Train AUC: 0.11142 | Val AUC E: 0.26627 | Val AUC J: 0.22728\n"
     ]
    },
    {
     "name": "stderr",
     "output_type": "stream",
     "text": [
      " 16%|█▌        | 31/200 [2:09:28<11:47:37, 251.23s/it]"
     ]
    },
    {
     "name": "stdout",
     "output_type": "stream",
     "text": [
      "Epoch 031: | Train Loss: 0.18501 | Val Loss: 0.54402 | Train Acc: 0.971 | Val Acc: 0.916 | Val F1: 0.672 | Val RMSE: 0.38492582772635825\n",
      "Train AUC: 0.11127 | Val AUC E: 0.24801 | Val AUC J: 0.22078\n"
     ]
    },
    {
     "name": "stderr",
     "output_type": "stream",
     "text": [
      " 16%|█▌        | 32/200 [2:13:26<11:32:21, 247.27s/it]"
     ]
    },
    {
     "name": "stdout",
     "output_type": "stream",
     "text": [
      "Epoch 032: | Train Loss: 0.18470 | Val Loss: 0.40175 | Train Acc: 0.970 | Val Acc: 0.917 | Val F1: 0.699 | Val RMSE: 0.3940739079144541\n",
      "Train AUC: 0.11136 | Val AUC E: 0.24780 | Val AUC J: 0.23234\n"
     ]
    },
    {
     "name": "stderr",
     "output_type": "stream",
     "text": [
      " 16%|█▋        | 33/200 [2:17:24<11:20:36, 244.53s/it]"
     ]
    },
    {
     "name": "stdout",
     "output_type": "stream",
     "text": [
      "Epoch 033: | Train Loss: 0.18439 | Val Loss: 0.42661 | Train Acc: 0.971 | Val Acc: 0.926 | Val F1: 0.782 | Val RMSE: 0.3642244366297724\n",
      "Train AUC: 0.11142 | Val AUC E: 0.27348 | Val AUC J: 0.24354\n"
     ]
    },
    {
     "name": "stderr",
     "output_type": "stream",
     "text": [
      " 17%|█▋        | 34/200 [2:21:22<11:11:06, 242.57s/it]"
     ]
    },
    {
     "name": "stdout",
     "output_type": "stream",
     "text": [
      "Epoch 034: | Train Loss: 0.18407 | Val Loss: 0.49819 | Train Acc: 0.971 | Val Acc: 0.920 | Val F1: 0.700 | Val RMSE: 0.4384335523390719\n",
      "Train AUC: 0.11139 | Val AUC E: 0.25270 | Val AUC J: 0.24186\n"
     ]
    },
    {
     "name": "stderr",
     "output_type": "stream",
     "text": [
      " 18%|█▊        | 35/200 [2:26:12<11:46:32, 256.92s/it]"
     ]
    },
    {
     "name": "stdout",
     "output_type": "stream",
     "text": [
      "Test Metrics | \n",
      "Accuracy (E|J):0.9144679930795848 | 0.9132785467128027 \n",
      "RMSE: 0.4931406600989363 | 0.6253026944544549 \n",
      "F1: 0.8915497298293762 | 0.8820702227333508  \n",
      "AUC: 0 | 0\n",
      "Best Test metrics till now: \n",
      "{'accuracy': (0.8987889273356401, 0.9043036332179931),\n",
      " 'f1': (0.8998303132555625, 0.8830691339531207),\n",
      " 'r2': (-1.1754020009535537, -0.4139946815482072),\n",
      " 'rmse': (0.6687539376829211, 0.5763505303080688),\n",
      " 'roc_auc': (0, 0)}\n",
      "Epoch 035: | Train Loss: 0.18407 | Val Loss: 0.57167 | Train Acc: 0.971 | Val Acc: 0.924 | Val F1: 0.760 | Val RMSE: 0.3777238351253976\n",
      "Train AUC: 0.11136 | Val AUC E: 0.26469 | Val AUC J: 0.25128\n"
     ]
    },
    {
     "name": "stderr",
     "output_type": "stream",
     "text": [
      " 18%|█▊        | 36/200 [2:30:12<11:27:44, 251.62s/it]"
     ]
    },
    {
     "name": "stdout",
     "output_type": "stream",
     "text": [
      "Epoch 036: | Train Loss: 0.18377 | Val Loss: 0.63708 | Train Acc: 0.971 | Val Acc: 0.919 | Val F1: 0.697 | Val RMSE: 0.41679478530933256\n",
      "Train AUC: 0.11136 | Val AUC E: 0.24301 | Val AUC J: 0.23809\n"
     ]
    },
    {
     "name": "stderr",
     "output_type": "stream",
     "text": [
      " 18%|█▊        | 37/200 [2:34:10<11:12:37, 247.59s/it]"
     ]
    },
    {
     "name": "stdout",
     "output_type": "stream",
     "text": [
      "Epoch 037: | Train Loss: 0.18382 | Val Loss: 0.49531 | Train Acc: 0.971 | Val Acc: 0.928 | Val F1: 0.798 | Val RMSE: 0.3869924628643259\n",
      "Train AUC: 0.11145 | Val AUC E: 0.24578 | Val AUC J: 0.23466\n"
     ]
    },
    {
     "name": "stderr",
     "output_type": "stream",
     "text": [
      " 19%|█▉        | 38/200 [2:38:09<11:01:27, 244.99s/it]"
     ]
    },
    {
     "name": "stdout",
     "output_type": "stream",
     "text": [
      "Epoch 038: | Train Loss: 0.18354 | Val Loss: 0.35779 | Train Acc: 0.971 | Val Acc: 0.927 | Val F1: 0.795 | Val RMSE: 0.3467856293644236\n",
      "Train AUC: 0.11136 | Val AUC E: 0.24817 | Val AUC J: 0.23143\n"
     ]
    },
    {
     "name": "stderr",
     "output_type": "stream",
     "text": [
      " 20%|█▉        | 39/200 [2:42:06<10:51:23, 242.75s/it]"
     ]
    },
    {
     "name": "stdout",
     "output_type": "stream",
     "text": [
      "Epoch 039: | Train Loss: 0.18333 | Val Loss: 0.32349 | Train Acc: 0.971 | Val Acc: 0.932 | Val F1: 0.852 | Val RMSE: 0.3475845109714129\n",
      "Train AUC: 0.11139 | Val AUC E: 0.26990 | Val AUC J: 0.25596\n"
     ]
    },
    {
     "name": "stderr",
     "output_type": "stream",
     "text": [
      " 20%|██        | 40/200 [2:46:56<11:24:52, 256.83s/it]"
     ]
    },
    {
     "name": "stdout",
     "output_type": "stream",
     "text": [
      "Test Metrics | \n",
      "Accuracy (E|J):0.9191176470588235 | 0.9094939446366782 \n",
      "RMSE: 0.476638490840609 | 0.5296159746608833 \n",
      "F1: 0.893503512740603 | 0.883006476828964  \n",
      "AUC: 0 | 0\n",
      "Best Test metrics till now: \n",
      "{'accuracy': (0.9061418685121108, 0.9056012110726643),\n",
      " 'f1': (0.8998895181660691, 0.8780911152200642),\n",
      " 'r2': (-0.4811247666066749, -0.8162835330043052),\n",
      " 'rmse': (0.5518136055343671, 0.6532127166324879),\n",
      " 'roc_auc': (0, 0)}\n",
      "Epoch 040: | Train Loss: 0.18327 | Val Loss: 0.32457 | Train Acc: 0.971 | Val Acc: 0.933 | Val F1: 0.868 | Val RMSE: 0.330067035256141\n",
      "Train AUC: 0.11139 | Val AUC E: 0.24940 | Val AUC J: 0.22463\n"
     ]
    },
    {
     "name": "stderr",
     "output_type": "stream",
     "text": [
      " 20%|██        | 41/200 [2:50:54<11:05:51, 251.27s/it]"
     ]
    },
    {
     "name": "stdout",
     "output_type": "stream",
     "text": [
      "Epoch 041: | Train Loss: 0.18321 | Val Loss: 0.30139 | Train Acc: 0.971 | Val Acc: 0.930 | Val F1: 0.826 | Val RMSE: 0.3475851145009901\n",
      "Train AUC: 0.11139 | Val AUC E: 0.25748 | Val AUC J: 0.23876\n"
     ]
    },
    {
     "name": "stderr",
     "output_type": "stream",
     "text": [
      " 21%|██        | 42/200 [2:54:53<10:51:32, 247.42s/it]"
     ]
    },
    {
     "name": "stdout",
     "output_type": "stream",
     "text": [
      "Epoch 042: | Train Loss: 0.18322 | Val Loss: 0.30786 | Train Acc: 0.971 | Val Acc: 0.933 | Val F1: 0.866 | Val RMSE: 0.3386404745111084\n",
      "Train AUC: 0.11139 | Val AUC E: 0.25451 | Val AUC J: 0.22823\n"
     ]
    },
    {
     "name": "stderr",
     "output_type": "stream",
     "text": [
      " 22%|██▏       | 43/200 [2:58:50<10:39:34, 244.43s/it]"
     ]
    },
    {
     "name": "stdout",
     "output_type": "stream",
     "text": [
      "Epoch 043: | Train Loss: 0.18322 | Val Loss: 0.31446 | Train Acc: 0.971 | Val Acc: 0.931 | Val F1: 0.841 | Val RMSE: 0.34935097110453406\n",
      "Train AUC: 0.11139 | Val AUC E: 0.24934 | Val AUC J: 0.24502\n"
     ]
    },
    {
     "name": "stderr",
     "output_type": "stream",
     "text": [
      " 22%|██▏       | 44/200 [3:02:48<10:30:36, 242.54s/it]"
     ]
    },
    {
     "name": "stdout",
     "output_type": "stream",
     "text": [
      "Epoch 044: | Train Loss: 0.18327 | Val Loss: 0.29583 | Train Acc: 0.971 | Val Acc: 0.934 | Val F1: 0.886 | Val RMSE: 0.32871350668592775\n",
      "Train AUC: 0.11139 | Val AUC E: 0.26792 | Val AUC J: 0.25164\n"
     ]
    },
    {
     "name": "stderr",
     "output_type": "stream",
     "text": [
      " 22%|██▎       | 45/200 [3:07:38<11:03:21, 256.78s/it]"
     ]
    },
    {
     "name": "stdout",
     "output_type": "stream",
     "text": [
      "Test Metrics | \n",
      "Accuracy (E|J):0.9194420415224913 | 0.9184688581314879 \n",
      "RMSE: 0.476978667478959 | 0.5068731863927792 \n",
      "F1: 0.9094600242109134 | 0.8920903422391526  \n",
      "AUC: 0 | 0\n",
      "Best Test metrics till now: \n",
      "{'accuracy': (0.921280276816609, 0.9183607266435986),\n",
      " 'f1': (0.9103550215591236, 0.909199670760826),\n",
      " 'r2': (-0.10505793133544872, -0.10100106714300505),\n",
      " 'rmse': (0.476638490840609, 0.5085769474752269),\n",
      " 'roc_auc': (0, 0)}\n",
      "Epoch 045: | Train Loss: 0.18327 | Val Loss: 0.28993 | Train Acc: 0.971 | Val Acc: 0.933 | Val F1: 0.883 | Val RMSE: 0.3282075275558228\n",
      "Train AUC: 0.11153 | Val AUC E: 0.23644 | Val AUC J: 0.23882\n"
     ]
    },
    {
     "name": "stderr",
     "output_type": "stream",
     "text": [
      " 23%|██▎       | 46/200 [3:11:36<10:44:17, 251.02s/it]"
     ]
    },
    {
     "name": "stdout",
     "output_type": "stream",
     "text": [
      "Epoch 046: | Train Loss: 0.18352 | Val Loss: 0.29015 | Train Acc: 0.971 | Val Acc: 0.929 | Val F1: 0.808 | Val RMSE: 0.3408991987571492\n",
      "Train AUC: 0.11145 | Val AUC E: 0.26258 | Val AUC J: 0.25302\n"
     ]
    },
    {
     "name": "stderr",
     "output_type": "stream",
     "text": [
      " 23%|██▎       | 46/200 [3:12:55<10:45:54, 251.65s/it]\n"
     ]
    },
    {
     "ename": "KeyboardInterrupt",
     "evalue": "",
     "output_type": "error",
     "traceback": [
      "\u001b[0;31m---------------------------------------------------------------------------\u001b[0m",
      "\u001b[0;31mKeyboardInterrupt\u001b[0m                         Traceback (most recent call last)",
      "\u001b[0;32m/tmp/ipykernel_121845/3537904198.py\u001b[0m in \u001b[0;36m<module>\u001b[0;34m\u001b[0m\n\u001b[1;32m    139\u001b[0m             \u001b[0mtrain_loss_j\u001b[0m \u001b[0;34m=\u001b[0m \u001b[0mcriterion\u001b[0m\u001b[0;34m(\u001b[0m\u001b[0my_train_pred_j\u001b[0m\u001b[0;34m.\u001b[0m\u001b[0mto\u001b[0m\u001b[0;34m(\u001b[0m\u001b[0mtorch\u001b[0m\u001b[0;34m.\u001b[0m\u001b[0mfloat32\u001b[0m\u001b[0;34m)\u001b[0m\u001b[0;34m,\u001b[0m \u001b[0my_train_batch_j\u001b[0m\u001b[0;34m.\u001b[0m\u001b[0mto\u001b[0m\u001b[0;34m(\u001b[0m\u001b[0mtorch\u001b[0m\u001b[0;34m.\u001b[0m\u001b[0mfloat32\u001b[0m\u001b[0;34m)\u001b[0m\u001b[0;34m)\u001b[0m\u001b[0;34m\u001b[0m\u001b[0;34m\u001b[0m\u001b[0m\n\u001b[1;32m    140\u001b[0m             \u001b[0;31m#distill_loss = distill_criterion(X_train_batch, y_train_batch)\u001b[0m\u001b[0;34m\u001b[0m\u001b[0;34m\u001b[0m\u001b[0;34m\u001b[0m\u001b[0m\n\u001b[0;32m--> 141\u001b[0;31m             \u001b[0mtrain_metrics_e\u001b[0m \u001b[0;34m=\u001b[0m \u001b[0mget_performance_metrics\u001b[0m\u001b[0;34m(\u001b[0m\u001b[0my_train_batch_e\u001b[0m\u001b[0;34m,\u001b[0m \u001b[0my_train_hat_e\u001b[0m\u001b[0;34m,\u001b[0m \u001b[0mweights\u001b[0m\u001b[0;34m=\u001b[0m\u001b[0;32mNone\u001b[0m\u001b[0;34m)\u001b[0m\u001b[0;34m\u001b[0m\u001b[0;34m\u001b[0m\u001b[0m\n\u001b[0m\u001b[1;32m    142\u001b[0m             \u001b[0mtrain_metrics_j\u001b[0m \u001b[0;34m=\u001b[0m \u001b[0mget_performance_metrics\u001b[0m\u001b[0;34m(\u001b[0m\u001b[0my_train_batch_j\u001b[0m\u001b[0;34m,\u001b[0m \u001b[0my_train_hat_j\u001b[0m\u001b[0;34m,\u001b[0m \u001b[0mweights\u001b[0m\u001b[0;34m=\u001b[0m\u001b[0;32mNone\u001b[0m\u001b[0;34m)\u001b[0m\u001b[0;34m\u001b[0m\u001b[0;34m\u001b[0m\u001b[0m\n\u001b[1;32m    143\u001b[0m \u001b[0;34m\u001b[0m\u001b[0m\n",
      "\u001b[0;32m/tmp/ipykernel_121845/2347362884.py\u001b[0m in \u001b[0;36mget_performance_metrics\u001b[0;34m(y_batch, y_hat, weights, isRegression)\u001b[0m\n\u001b[1;32m      5\u001b[0m         \u001b[0my_hat\u001b[0m \u001b[0;34m=\u001b[0m \u001b[0mThe\u001b[0m \u001b[0mpredicitons\u001b[0m \u001b[0;32mfrom\u001b[0m \u001b[0mthe\u001b[0m \u001b[0mmodel\u001b[0m\u001b[0;34m\u001b[0m\u001b[0;34m\u001b[0m\u001b[0m\n\u001b[1;32m      6\u001b[0m     '''\n\u001b[0;32m----> 7\u001b[0;31m     \u001b[0my_batch\u001b[0m \u001b[0;34m=\u001b[0m \u001b[0my_batch\u001b[0m\u001b[0;34m.\u001b[0m\u001b[0mcpu\u001b[0m\u001b[0;34m(\u001b[0m\u001b[0;34m)\u001b[0m\u001b[0;34m.\u001b[0m\u001b[0mnumpy\u001b[0m\u001b[0;34m(\u001b[0m\u001b[0;34m)\u001b[0m\u001b[0;34m\u001b[0m\u001b[0;34m\u001b[0m\u001b[0m\n\u001b[0m\u001b[1;32m      8\u001b[0m     \u001b[0my_hat\u001b[0m \u001b[0;34m=\u001b[0m \u001b[0my_hat\u001b[0m\u001b[0;34m.\u001b[0m\u001b[0mcpu\u001b[0m\u001b[0;34m(\u001b[0m\u001b[0;34m)\u001b[0m\u001b[0;34m.\u001b[0m\u001b[0mnumpy\u001b[0m\u001b[0;34m(\u001b[0m\u001b[0;34m)\u001b[0m\u001b[0;34m\u001b[0m\u001b[0;34m\u001b[0m\u001b[0m\n\u001b[1;32m      9\u001b[0m \u001b[0;34m\u001b[0m\u001b[0m\n",
      "\u001b[0;31mKeyboardInterrupt\u001b[0m: "
     ]
    }
   ],
   "source": [
    "import tqdm\n",
    "import pprint \n",
    "from time import time\n",
    "pp = pprint.PrettyPrinter() # Pretty print\n",
    "\n",
    "# Prepare the diagram for CNN architecture and vision transformer\n",
    "best_test_f1 = 0\n",
    "best_test_dict = {\n",
    "    \"epoch\":-1,\n",
    "    \"f1_score\":-1,\n",
    "    \"accuracy\":-1,\n",
    "    \"roc_auc\":-1\n",
    "}\n",
    "\n",
    "if __name__ == '__main__':    \n",
    "\n",
    "    accuracy_stats = {\n",
    "        \"E\":{\n",
    "            'train': [],\n",
    "            \"val\": [],\n",
    "            \"test\": []\n",
    "        },\n",
    "        \"J\":{\n",
    "            'train': [],\n",
    "            \"val\": [],\n",
    "            \"test\": []\n",
    "        }\n",
    "       \n",
    "    }\n",
    "    loss_stats = {\n",
    "     \"E\":{\n",
    "            'train': [],\n",
    "            \"val\": [],\n",
    "            \"test\": []\n",
    "        },\n",
    "        \"J\":{\n",
    "            'train': [],\n",
    "            \"val\": [],\n",
    "            \"test\": []\n",
    "        }\n",
    "    }\n",
    "    r2_stats = {\n",
    "       \"E\":{\n",
    "            'train': [],\n",
    "            \"val\": [],\n",
    "            \"test\": []\n",
    "        },\n",
    "        \"J\":{\n",
    "            'train': [],\n",
    "            \"val\": [],\n",
    "            \"test\": []\n",
    "        }\n",
    "    }\n",
    "    f1_stats = {\n",
    "     \"E\":{\n",
    "            'train': [],\n",
    "            \"val\": [],\n",
    "            \"test\": []\n",
    "        },\n",
    "        \"J\":{\n",
    "            'train': [],\n",
    "            \"val\": [],\n",
    "            \"test\": []\n",
    "        }\n",
    "    }\n",
    "    roc_auc_stats = {\n",
    "     \"E\":{\n",
    "            'train': [],\n",
    "            \"val\": [],\n",
    "            \"test\": []\n",
    "        },\n",
    "        \"J\":{\n",
    "            'train': [],\n",
    "            \"val\": [],\n",
    "            \"test\": []\n",
    "        }\n",
    "    }\n",
    "    rmse_stats = {\n",
    "     \"E\":{\n",
    "            'train': [],\n",
    "            \"val\": [],\n",
    "            \"test\": []\n",
    "        },\n",
    "        \"J\":{\n",
    "            'train': [],\n",
    "            \"val\": [],\n",
    "            \"test\": []\n",
    "        }\n",
    "    }\n",
    "    print(\"Begin training.\")\n",
    "    for e in tqdm.tqdm(range(1, EPOCHS+1)):\n",
    "        # TRAINING\n",
    "        train_epoch_loss = {\n",
    "            \"E\":0,\n",
    "            \"J\":0\n",
    "        }\n",
    "        train_epoch_acc = {\n",
    "            \"E\":0,\n",
    "            \"J\":0\n",
    "        }\n",
    "        train_epoch_r2 = {\n",
    "            \"E\":0,\n",
    "            \"J\":0\n",
    "        }\n",
    "        train_epoch_f1 = {\n",
    "            \"E\":0,\n",
    "            \"J\":0\n",
    "        }\n",
    "        train_epoch_rmse = {\n",
    "            \"E\":0,\n",
    "            \"J\":0\n",
    "        }\n",
    "        train_epoch_roc = {\n",
    "            \"E\":0,\n",
    "            \"J\":0\n",
    "        }\n",
    "\n",
    "        batch_y_true = []\n",
    "        batch_y_hat = []\n",
    "\n",
    "        val_y_true = []\n",
    "        val_y_hat = []\n",
    "\n",
    "        model.train()\n",
    "\n",
    "        for X_train_batch, y_train_batch_e, y_train_batch_j in train_loader:\n",
    "            \n",
    "            X_train_batch, y_train_batch_e, y_train_batch_j = X_train_batch.to(device), y_train_batch_e.to(device), y_train_batch_j.to(device)\n",
    "\n",
    "            preds = model(X_train_batch)\n",
    "            (y_train_pred_e, y_train_pred_j) = preds\n",
    "            y_train_pred_e, y_train_pred_j = y_train_pred_e.float(), y_train_pred_j.float()\n",
    "            y_train_hat_e,y_train_hat_j = torch.round(y_train_pred_e).detach(), torch.round(y_train_pred_j).detach()\n",
    "            y_train_hat_e, y_train_hat_j= y_train_hat_e.squeeze(0).float(), y_train_hat_j.squeeze(0).float()\n",
    "       \n",
    "\n",
    "    \n",
    "            train_loss_e = criterion(y_train_pred_e.to(torch.float32), y_train_batch_e.to(torch.float32))\n",
    "            train_loss_j = criterion(y_train_pred_j.to(torch.float32), y_train_batch_j.to(torch.float32))\n",
    "            #distill_loss = distill_criterion(X_train_batch, y_train_batch)\n",
    "            train_metrics_e = get_performance_metrics(y_train_batch_e, y_train_hat_e, weights=None)\n",
    "            train_metrics_j = get_performance_metrics(y_train_batch_j, y_train_hat_j, weights=None)\n",
    "\n",
    "            train_acc, train_r2, train_f1, train_rmse, train_roc = train_metrics_e['accuracy'], train_metrics_e['r2'], train_metrics_e['f1'], train_metrics_e['rmse'], train_metrics_e['roc_auc'] \n",
    "            train_acc_j, train_r2_j, train_f1_j, train_rmse_j, train_roc_j = train_metrics_j['accuracy'], train_metrics_j['r2'], train_metrics_j['f1'], train_metrics_j['rmse'], train_metrics_j['roc_auc'] \n",
    "            \n",
    "            # train_acc = accuracy_score(y_train_batch.cpu().numpy(), y_train_hat.cpu().numpy())\n",
    "            # train_mcc = multi_mcc(y_train_batch.cpu().numpy(), y_train_hat.cpu().numpy())\n",
    "            # train_f1 = f1_score(y_train_batch.cpu().numpy(), y_train_hat.cpu().numpy(), average=\"macro\", labels=np.unique(y_train_hat.cpu().numpy()))\n",
    "            # train_rmse = root_mean_squared_error(y_train_batch.cpu().numpy(), y_train_hat.cpu().numpy())\n",
    "            batch_y_true.extend(y_train_batch_e.cpu().numpy())\n",
    "            batch_y_hat.extend(y_train_hat_e.cpu().numpy())\n",
    "\n",
    "            final_loss = train_loss_e + train_loss_j\n",
    "\n",
    "\n",
    "            optimizer.zero_grad()\n",
    "            final_loss.backward()\n",
    "            #distill_loss.backward()\n",
    "            optimizer.step()\n",
    "            \n",
    "\n",
    "            train_epoch_loss[\"E\"] += final_loss.item()\n",
    "\n",
    "            # For Erosion\n",
    "            train_epoch_acc[\"E\"] += train_acc\n",
    "            train_epoch_r2[\"E\"] += train_r2\n",
    "            train_epoch_f1[\"E\"] += train_f1\n",
    "            train_epoch_rmse[\"E\"] += train_rmse\n",
    "            train_epoch_roc[\"E\"] += train_roc\n",
    "\n",
    "            # For JSN\n",
    "            train_epoch_acc[\"J\"] += train_acc_j\n",
    "            train_epoch_r2[\"J\"] += train_r2_j\n",
    "            train_epoch_f1[\"J\"] += train_f1_j\n",
    "            train_epoch_rmse[\"J\"] += train_rmse_j\n",
    "            train_epoch_roc[\"J\"] += train_roc_j\n",
    "            \n",
    "            # if(e % 10 == 0):\n",
    "            #     # Draw ROC Curve for Train\n",
    "            #     # draw_roc_curve(X_train_batch.cpu().detach().numpy(), y_train_batch.cpu().detach().numpy(), y_train_pred.cpu().detach().numpy(), model.classes, f\"{MODEL_NAME}_{e}_roc\")\n",
    "                    \n",
    "            torch.cuda.empty_cache() # Clear CUDA memory\n",
    "            \n",
    "            \n",
    "        # VALIDATION    \n",
    "        with torch.no_grad():\n",
    "        \n",
    "            val_epoch_loss = {\n",
    "                \"E\":0,\n",
    "                \"J\":0\n",
    "            }\n",
    "            val_epoch_acc = {\n",
    "            \"E\":0,\n",
    "            \"J\":0\n",
    "                }\n",
    "            val_epoch_r2 = {\n",
    "            \"E\":0,\n",
    "            \"J\":0\n",
    "                }\n",
    "            val_epoch_f1 = {\n",
    "            \"E\":0,\n",
    "            \"J\":0\n",
    "                }\n",
    "            val_epoch_rmse = {\n",
    "            \"E\":0,\n",
    "            \"J\":0\n",
    "                }\n",
    "            val_epoch_roc = {\n",
    "            \"E\":0,\n",
    "            \"J\":0\n",
    "                }\n",
    "        \n",
    "\n",
    "            model.eval()\n",
    "            for X_val_batch, y_val_batch_e, y_val_batch_j in val_loader:\n",
    "\n",
    "                X_val_batch, y_val_batch_e, y_val_batch_j = X_val_batch.to(device), y_val_batch_e.to(device), y_val_batch_j.to(device)\n",
    "\n",
    "                val_preds = model(X_val_batch)\n",
    "                (y_val_pred_e, y_val_pred_j) = val_preds\n",
    "                y_val_pred_e, y_val_pred_j = y_val_pred_e.float(), y_val_pred_j.float()\n",
    "                y_val_hat_e,y_val_hat_j = torch.round(y_val_pred_e).detach(), torch.round(y_val_pred_j).detach()\n",
    "                y_val_hat_e, y_val_hat_j= y_val_hat_e.squeeze(0).float(), y_val_hat_j.squeeze(0).float()\n",
    "        \n",
    "\n",
    "        \n",
    "                val_loss_e = criterion(y_val_pred_e.to(torch.float32), y_val_batch_e.to(torch.float32))\n",
    "                val_loss_j = criterion(y_val_pred_j.to(torch.float32), y_val_batch_j.to(torch.float32))\n",
    "                #distill_loss = distill_criterion(X_train_batch, y_train_batch)\n",
    "                val_metrics_e = get_performance_metrics(y_val_batch_e, y_val_hat_e, weights=None)\n",
    "                val_metrics_j = get_performance_metrics(y_val_batch_j, y_val_hat_j, weights=None)\n",
    "\n",
    "                val_acc, val_r2, val_f1, val_rmse, val_roc= val_metrics_e['accuracy'], val_metrics_e['r2'], val_metrics_e['f1'], val_metrics_e['rmse'], val_metrics_e['roc_auc']\n",
    "                val_acc_j, val_r2_j, val_f1_j, val_rmse_j, val_roc_j = val_metrics_j['accuracy'], val_metrics_j['r2'], val_metrics_j['f1'], val_metrics_j['rmse'], val_metrics_j['roc_auc']\n",
    "            \n",
    "\n",
    "                val_loss = val_loss_e + val_loss_j\n",
    "\n",
    "                val_y_true.extend(y_val_batch_e.cpu().numpy())\n",
    "                val_y_hat.extend(y_val_hat_e.cpu().numpy())\n",
    "                \n",
    "                \n",
    "                val_epoch_loss[\"E\"] += val_loss.item()\n",
    "\n",
    "                # For Erosion\n",
    "                val_epoch_acc[\"E\"] += val_acc\n",
    "                val_epoch_r2[\"E\"] += val_r2\n",
    "                val_epoch_f1[\"E\"] += val_f1\n",
    "                val_epoch_rmse[\"E\"] += val_rmse\n",
    "                val_epoch_roc[\"E\"] += val_roc\n",
    "                # For JSN\n",
    "                val_epoch_acc[\"J\"] += val_acc_j\n",
    "                val_epoch_r2[\"J\"] += val_r2_j\n",
    "                val_epoch_f1[\"J\"] += val_f1_j\n",
    "                val_epoch_rmse[\"J\"] += val_rmse_j\n",
    "                val_epoch_roc[\"J\"] += val_roc_j\n",
    "                torch.cuda.empty_cache() # Clear CUDA memory\n",
    "\n",
    "\n",
    "        \n",
    "        # Evaluate on test and save best result\n",
    "        test_metrics = evaluate_test_set_multi_task(model, test_loader, e,regression = IsRegression, class_weights = None)\n",
    "        \n",
    "        test_acc, test_r2, test_f1, test_rmse, test_roc= test_metrics['accuracy'][0], test_metrics['r2'][0], test_metrics['f1'][0], test_metrics['rmse'][0], test_metrics['roc_auc'][0] \n",
    "        test_acc_j, test_r2_j, test_f1_j, test_rmse_j, test_roc_j = test_metrics['accuracy'][1], test_metrics['r2'][1], test_metrics['f1'][1], test_metrics['rmse'][1], test_metrics['roc_auc'][1] \n",
    "        \n",
    "        # Store results \n",
    "        loss_stats[\"E\"]['train'].append(train_epoch_loss[\"E\"]/len(train_dl))\n",
    "        loss_stats[\"E\"]['val'].append(val_epoch_loss[\"E\"]/len(val_dl))\n",
    "        \n",
    "        # ACCURACY\n",
    "        # JSN\n",
    "        accuracy_stats[\"E\"]['train'].append(train_epoch_acc[\"E\"]/len(train_dl))\n",
    "        accuracy_stats[\"E\"]['val'].append(val_epoch_acc[\"E\"]/len(val_dl))\n",
    "        accuracy_stats[\"E\"]['test'].append(test_acc)\n",
    "        # Erosion\n",
    "        accuracy_stats[\"J\"]['train'].append(train_epoch_acc[\"J\"]/len(train_dl))\n",
    "        accuracy_stats[\"J\"]['val'].append(val_epoch_acc[\"J\"]/len(val_dl))\n",
    "        accuracy_stats[\"J\"]['test'].append(test_acc_j)\n",
    "\n",
    "        # F1 SCORE\n",
    "        # Erosion\n",
    "        f1_stats[\"E\"]['train'].append(train_epoch_f1[\"E\"]/len(train_dl))\n",
    "        f1_stats[\"E\"]['val'].append(val_epoch_f1[\"E\"]/len(val_dl))\n",
    "        f1_stats[\"E\"]['test'].append(test_f1)\n",
    "        # JSN\n",
    "        f1_stats[\"J\"]['train'].append(train_epoch_f1[\"J\"]/len(train_dl))\n",
    "        f1_stats[\"J\"]['val'].append(val_epoch_f1[\"J\"]/len(val_dl))\n",
    "        f1_stats[\"J\"]['test'].append(test_f1_j)\n",
    "\n",
    "        # R2_STATS\n",
    "        # EROSION\n",
    "        r2_stats[\"E\"]['train'].append(train_epoch_r2[\"E\"]/len(train_dl))\n",
    "        r2_stats[\"E\"]['val'].append(val_epoch_r2[\"E\"]/len(val_dl))\n",
    "        r2_stats[\"E\"]['test'].append(test_r2)\n",
    "        # JSN\n",
    "        r2_stats[\"J\"]['train'].append(train_epoch_r2[\"J\"]/len(train_dl))\n",
    "        r2_stats[\"J\"]['val'].append(val_epoch_r2[\"J\"]/len(val_dl))\n",
    "        r2_stats[\"J\"]['test'].append(test_r2_j)        \n",
    "        \n",
    "        # RMSE \n",
    "        # EROSION\n",
    "        rmse_stats[\"E\"]['train'].append(train_epoch_rmse[\"E\"]/len(train_dl))\n",
    "        rmse_stats[\"E\"]['val'].append(val_epoch_rmse[\"E\"]/len(val_dl))\n",
    "        rmse_stats[\"E\"]['test'].append(test_rmse)\n",
    "        # JSN\n",
    "        rmse_stats[\"J\"]['train'].append(train_epoch_rmse[\"J\"]/len(train_dl))\n",
    "        rmse_stats[\"J\"]['val'].append(val_epoch_rmse[\"J\"]/len(val_dl))\n",
    "        rmse_stats[\"J\"]['test'].append(test_rmse_j)\n",
    "        \n",
    "        # ROC \n",
    "        # EROSION\n",
    "        roc_auc_stats[\"E\"]['train'].append(train_epoch_roc[\"E\"]/len(train_dl))\n",
    "        roc_auc_stats[\"E\"]['val'].append(val_epoch_roc[\"E\"]/len(val_dl))\n",
    "        roc_auc_stats[\"E\"]['test'].append(test_roc)\n",
    "        # JSN\n",
    "        roc_auc_stats[\"J\"]['train'].append(train_epoch_roc[\"J\"]/len(train_dl))\n",
    "        roc_auc_stats[\"J\"]['val'].append(val_epoch_roc[\"J\"]/len(val_dl))\n",
    "        roc_auc_stats[\"J\"]['test'].append(test_roc_j)\n",
    "\n",
    "        # roc_auc_stats['train'].append(json.dumps(roc_auc_score_multiclass(batch_y_true, batch_y_hat)))\n",
    "        # roc_auc_stats['val'].append(json.dumps(roc_auc_score_multiclass(val_y_true, val_y_hat)))\n",
    "        # roc_auc_stats['test'].append(json.dumps(test_eval[3]))\n",
    "        \n",
    "        if(test_f1 > best_test_f1):\n",
    "            # Store best test results\n",
    "            best_test_dict = test_metrics\n",
    "            best_test_f1 = test_f1\n",
    "            # Store best model dict\n",
    "            torch.save({\n",
    "                'epoch': e,\n",
    "                'model_state_dict': model.state_dict(),\n",
    "                'optimizer_state_dict': optimizer.state_dict(),\n",
    "                'val_loss': val_epoch_loss[\"E\"]/len(val_dl),\n",
    "            }, f\"./logs/{MODEL_NAME}_best_model.ckpt\")\n",
    "\n",
    "        # Save confusion matrix, test metrics, every 5 minutes \n",
    "        if(e % 5 == 0):\n",
    "            save_metrics_multi_score(accuracy_stats,f1_stats,rmse_stats,roc_stats=roc_auc_stats, prefix=e)\n",
    "            # save_confusion_matrix(val_y_true, val_y_hat, e)\n",
    "            test_eval = evaluate_test_set_multi_task(model, test_loader, e, True ,regression = IsRegression, class_weights = None)\n",
    "            print(\"Best Test metrics till now: \")\n",
    "            pp.pprint(best_test_dict)\n",
    "        \n",
    "        print(f'Epoch {e+0:03}: | Train Loss: {train_epoch_loss[\"E\"]/len(train_loader):.5f} | Val Loss: {val_epoch_loss[\"E\"]/len(val_loader):.5f} | Train Acc: {train_epoch_acc[\"E\"]/len(train_loader):.3f} | Val Acc: {val_epoch_acc[\"E\"]/len(val_loader):.3f} | Val F1: {val_epoch_f1[\"E\"]/len(val_loader):.3f} | Val RMSE: {val_epoch_rmse[\"E\"]/len(val_dl)}')\n",
    "        print(f'Train AUC: {train_epoch_roc[\"E\"]/len(train_loader):.5f} | Val AUC E: {val_epoch_roc[\"E\"]/len(val_loader):.5f} | Val AUC J: {val_epoch_roc[\"J\"]/len(val_loader):.5f}')\n",
    "        \n",
    "save_metrics_multi_score(accuracy_stats,f1_stats,rmse_stats,roc_auc_stats)"
   ]
  },
  {
   "cell_type": "code",
   "execution_count": 76,
   "metadata": {},
   "outputs": [],
   "source": [
    "torch.save({    'model_state_dict': model.state_dict(),\n",
    "                'optimizer_state_dict': optimizer.state_dict(),\n",
    "            }, f\"./logs/{MODEL_NAME}_best_model.ckpt\")"
   ]
  },
  {
   "cell_type": "code",
   "execution_count": 47,
   "metadata": {},
   "outputs": [
    {
     "name": "stdout",
     "output_type": "stream",
     "text": [
      "GPU 0 has 0 KB free\n",
      "GPU 1 has 0 KB free\n",
      "GPU 2 has 499025408 KB free\n",
      "GPU 3 has 402653184 KB free\n"
     ]
    }
   ],
   "source": [
    "for device in range(4):\n",
    "    t = torch.cuda.get_device_properties(device).total_memory\n",
    "    r = torch.cuda.memory_reserved(device)\n",
    "    a = torch.cuda.memory_allocated(device)\n",
    "    f = (r-a)  # free inside reserved\n",
    "    print(f\"GPU {device} has {f} KB free\")"
   ]
  },
  {
   "cell_type": "code",
   "execution_count": null,
   "metadata": {},
   "outputs": [],
   "source": [
    "import seaborn as sns\n",
    "\n",
    "# Create dataframes\n",
    "train_val_acc_df = pd.DataFrame.from_dict(accuracy_stats).reset_index().melt(id_vars=['index']).rename(columns={\"index\":\"epochs\"})\n",
    "train_val_loss_df = pd.DataFrame.from_dict(loss_stats).reset_index().melt(id_vars=['index']).rename(columns={\"index\":\"epochs\"})\n",
    "train_val_f1_df = pd.DataFrame.from_dict(f1_stats).reset_index().melt(id_vars=['index']).rename(columns={\"index\":\"epochs\"})\n",
    "train_val_rmse_df = pd.DataFrame.from_dict(rmse_stats).reset_index().melt(id_vars=['index']).rename(columns={\"index\":\"epochs\"})\n",
    "\n",
    "\n",
    "# Plot the dataframes\n",
    "fig, axes = plt.subplots(nrows=1, ncols=4, figsize=(20,7))\n",
    "sns.lineplot(data=train_val_acc_df, x = \"epochs\", y=\"value\", hue=\"variable\",  ax=axes[0]).set_title('Train-Val Accuracy/Epoch')\n",
    "sns.lineplot(data=train_val_loss_df, x = \"epochs\", y=\"value\", hue=\"variable\", ax=axes[1]).set_title('Train-Val Loss/Epoch')\n",
    "sns.lineplot(data=train_val_f1_df, x = \"epochs\", y=\"value\", hue=\"variable\", ax=axes[2]).set_title('Train-Val F1-Score/Epoch')\n",
    "sns.lineplot(data=train_val_rmse_df, x = \"epochs\", y=\"value\", hue=\"variable\", ax=axes[3]).set_title('Train-Val RMSE/Epoch')\n",
    "plt.savefig(f\"./logs/{MODEL_NAME}_curves.png\")"
   ]
  },
  {
   "cell_type": "code",
   "execution_count": null,
   "metadata": {},
   "outputs": [],
   "source": [
    "from sklearn.metrics import confusion_matrix, classification_report\n",
    "\n",
    "confusion_matrix_df = pd.DataFrame(confusion_matrix(y_test, y_pred_list))\n",
    "sns.heatmap(confusion_matrix_df, annot=True)"
   ]
  },
  {
   "cell_type": "code",
   "execution_count": null,
   "metadata": {},
   "outputs": [],
   "source": []
  }
 ],
 "metadata": {
  "kernelspec": {
   "display_name": "Python 3.7.13 ('dlenv37': conda)",
   "language": "python",
   "name": "python3"
  },
  "language_info": {
   "codemirror_mode": {
    "name": "ipython",
    "version": 3
   },
   "file_extension": ".py",
   "mimetype": "text/x-python",
   "name": "python",
   "nbconvert_exporter": "python",
   "pygments_lexer": "ipython3",
   "version": "3.7.13"
  },
  "orig_nbformat": 4,
  "vscode": {
   "interpreter": {
    "hash": "bbe96fb9bc4bb07170fe4378f79634fda4af800be1c68604899813880573e144"
   }
  }
 },
 "nbformat": 4,
 "nbformat_minor": 2
}
